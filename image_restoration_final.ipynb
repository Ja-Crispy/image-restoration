{
 "cells": [
  {
   "cell_type": "code",
   "execution_count": null,
   "id": "10ded6a0",
   "metadata": {},
   "outputs": [],
   "source": [
    "import os\n",
    "import cv2\n",
    "import gradio as gr\n",
    "import torch\n",
    "from gfpgan.utils import GFPGANer\n",
    "os.system(\"hub install deoldify==1.0.1\")\n",
    "import paddlehub as hub\n",
    "from pathlib import Path\n",
    "from datetime import datetime\n",
    "from PIL import Image\n",
    "import warnings\n",
    "warnings.filterwarnings(\"ignore\")"
   ]
  },
  {
   "attachments": {},
   "cell_type": "markdown",
   "id": "4dab2d74",
   "metadata": {},
   "source": [
    "### Image Colorization"
   ]
  },
  {
   "attachments": {},
   "cell_type": "markdown",
   "id": "3da3e66f",
   "metadata": {},
   "source": [
    "##### Load model checkpoint, define the function logic for colorization"
   ]
  },
  {
   "cell_type": "code",
   "execution_count": null,
   "id": "8066e31d",
   "metadata": {},
   "outputs": [],
   "source": [
    "model = hub.Module(name='deoldify')\n",
    "render_factor=35"
   ]
  },
  {
   "cell_type": "code",
   "execution_count": null,
   "id": "325f8002",
   "metadata": {},
   "outputs": [],
   "source": [
    "def colorize_image(image):\n",
    "    if not os.path.exists(\"./output\"):\n",
    "        os.makedirs(\"./output\")   \n",
    "    result = model.predict(image)\n",
    "    file='./output/DeOldify/image.png'\n",
    "    img = Image.open(file)\n",
    "    return img,file"
   ]
  },
  {
   "attachments": {},
   "cell_type": "markdown",
   "id": "68e2b6e4",
   "metadata": {},
   "source": [
    "### Image Upscaling and Enhancement"
   ]
  },
  {
   "attachments": {},
   "cell_type": "markdown",
   "id": "305b6634",
   "metadata": {},
   "source": [
    "##### Load model checkpoint, define the function logic for upscaling and enhancement"
   ]
  },
  {
   "cell_type": "code",
   "execution_count": null,
   "id": "6c6f46f9",
   "metadata": {},
   "outputs": [],
   "source": [
    "def inference(img, scale):\n",
    "    try:\n",
    "        extension = os.path.splitext(os.path.basename(str(img)))[1]\n",
    "        img = cv2.imread(img, cv2.IMREAD_UNCHANGED)\n",
    "        if len(img.shape) == 3 and img.shape[2] == 4:\n",
    "            img_mode = 'RGBA'\n",
    "        elif len(img.shape) == 2:  # for gray inputs\n",
    "            img_mode = None\n",
    "            img = cv2.cvtColor(img, cv2.COLOR_GRAY2BGR)\n",
    "        else:\n",
    "            img_mode = None\n",
    "\n",
    "        h, w = img.shape[0:2]\n",
    "        if h < 300:\n",
    "            img = cv2.resize(img, (w * 2, h * 2), interpolation=cv2.INTER_LANCZOS4)\n",
    "\n",
    "        face_enhancer = GFPGANer(\n",
    "        model_path='GFPGANv1.4.pth', upscale=2, arch='clean', channel_multiplier=2)\n",
    "\n",
    "        try:\n",
    "            _, _, output = face_enhancer.enhance(img, has_aligned=False, only_center_face=False, paste_back=True)\n",
    "        except RuntimeError as error:\n",
    "            print('Error', error)\n",
    "\n",
    "        try:\n",
    "            if scale != 2:\n",
    "                interpolation = cv2.INTER_AREA if scale < 2 else cv2.INTER_LANCZOS4\n",
    "                h, w = img.shape[0:2]\n",
    "                output = cv2.resize(output, (int(w * scale / 2), int(h * scale / 2)), interpolation=interpolation)\n",
    "        except Exception as error:\n",
    "            print('wrong scale input.', error)\n",
    "        if img_mode == 'RGBA':  # RGBA images should be saved in png format\n",
    "            extension = 'png'\n",
    "        else:\n",
    "            extension = 'jpg'\n",
    "        save_path = f'output/out.{extension}'\n",
    "        cv2.imwrite(save_path, output)\n",
    "\n",
    "        output = cv2.cvtColor(output, cv2.COLOR_BGR2RGB)\n",
    "        return output, save_path\n",
    "    except Exception as error:\n",
    "        print('global exception', error)\n",
    "        return None, None"
   ]
  },
  {
   "attachments": {},
   "cell_type": "markdown",
   "id": "6306706b",
   "metadata": {},
   "source": [
    "#### Colorization Interface in Gradio"
   ]
  },
  {
   "cell_type": "code",
   "execution_count": null,
   "id": "e0b1b21b",
   "metadata": {},
   "outputs": [],
   "source": [
    "interface1 = gr.Interface(\n",
    "    colorize_image, [\n",
    "        gr.Image(type=\"filepath\",label=\"Input Image\")\n",
    "    ], [\n",
    "        gr.outputs.Image(type=\"filepath\", label=\"Output Image\"),\n",
    "        gr.outputs.File(label=\"Download the output image\")\n",
    "    ],\n",
    "    description=\"Colorize B/W, Grayscale images\")"
   ]
  },
  {
   "attachments": {},
   "cell_type": "markdown",
   "id": "a12ac42a",
   "metadata": {},
   "source": [
    "#### Upscaling/enhancement interface in Gradio"
   ]
  },
  {
   "cell_type": "code",
   "execution_count": null,
   "id": "3eff2010",
   "metadata": {},
   "outputs": [],
   "source": [
    "interface2 = gr.Interface(\n",
    "    inference, [\n",
    "        gr.inputs.Image(type=\"filepath\", label=\"Input Image\"),\n",
    "        gr.inputs.Number(label=\"Rescaling factor\", default=2),\n",
    "    ], [\n",
    "        gr.outputs.Image(type=\"numpy\", label=\"Output Image\"),\n",
    "        gr.outputs.File(label=\"Download the output image\")\n",
    "    ],\n",
    "    description = \"Upscale and enhance Images\")"
   ]
  },
  {
   "attachments": {},
   "cell_type": "markdown",
   "id": "5cdda445",
   "metadata": {},
   "source": [
    "#### Combine the Interfaces"
   ]
  },
  {
   "cell_type": "code",
   "execution_count": null,
   "id": "d946739c",
   "metadata": {},
   "outputs": [],
   "source": [
    "title = \"Image Restoration\"\n",
    "final_interface = gr.TabbedInterface([interface1, interface2], [\"Colorization\", \"Enhancement\"], title=title,theme=gr.themes.Default())\n",
    "final_interface.launch(inbrowser=True)"
   ]
  }
 ],
 "metadata": {
  "kernelspec": {
   "display_name": "Python 3 (ipykernel)",
   "language": "python",
   "name": "python3"
  },
  "language_info": {
   "codemirror_mode": {
    "name": "ipython",
    "version": 3
   },
   "file_extension": ".py",
   "mimetype": "text/x-python",
   "name": "python",
   "nbconvert_exporter": "python",
   "pygments_lexer": "ipython3",
   "version": "3.9.8"
  }
 },
 "nbformat": 4,
 "nbformat_minor": 5
}
